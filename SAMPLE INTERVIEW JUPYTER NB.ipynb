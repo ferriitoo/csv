{
  "nbformat": 4,
  "nbformat_minor": 0,
  "metadata": {
    "colab": {
      "provenance": []
    },
    "kernelspec": {
      "name": "python3",
      "display_name": "Python 3"
    },
    "language_info": {
      "name": "python"
    }
  },
  "cells": [
    {
      "cell_type": "code",
      "execution_count": null,
      "metadata": {
        "id": "4HI-LCNcsgrC"
      },
      "outputs": [],
      "source": []
    },
    {
      "cell_type": "markdown",
      "source": [
        "# IMPORTING NEEDED PACKAGES"
      ],
      "metadata": {
        "id": "0NsogoQawhWC"
      }
    },
    {
      "cell_type": "code",
      "source": [
        "import pandas as pd\n",
        "import numpy as np"
      ],
      "metadata": {
        "id": "sGdQhtbiwnSO"
      },
      "execution_count": 10,
      "outputs": []
    },
    {
      "cell_type": "markdown",
      "source": [
        "# DATA LOADING"
      ],
      "metadata": {
        "id": "koGUx3djwoAv"
      }
    },
    {
      "cell_type": "markdown",
      "source": [],
      "metadata": {
        "id": "XNALF5tCwfZJ"
      }
    },
    {
      "cell_type": "code",
      "source": [
        "HOME_FOLDER = \"drive/MyDrive/COLLAB_PERSIST_FOLDER/\"\n",
        "\n",
        "\n",
        "path = HOME_FOLDER + \"ae_test.csv\"\n",
        "\n",
        "df = pd.read_csv(path, sep = \" \", header = None)\n",
        "\n",
        "#df.iloc[:len(df), :12]\n",
        "\n"
      ],
      "metadata": {
        "id": "MQHn2Kc3ucB3"
      },
      "execution_count": 12,
      "outputs": []
    },
    {
      "cell_type": "markdown",
      "source": [
        "# DATA CLEANING AND PREPROCESSING"
      ],
      "metadata": {
        "id": "MhqL7eSVaTIC"
      }
    },
    {
      "cell_type": "code",
      "source": [],
      "metadata": {
        "id": "_FnBmA8qwOBo"
      },
      "execution_count": 13,
      "outputs": []
    },
    {
      "cell_type": "markdown",
      "source": [
        "# EXPLORATORY DATA ANALYSIS (EDA)"
      ],
      "metadata": {
        "id": "rdvfkwLRaaBY"
      }
    },
    {
      "cell_type": "code",
      "source": [],
      "metadata": {
        "id": "ckahq3wJaaLF"
      },
      "execution_count": null,
      "outputs": []
    },
    {
      "cell_type": "markdown",
      "source": [
        "# MODEL BUILDING"
      ],
      "metadata": {
        "id": "5aswJuSUaskr"
      }
    },
    {
      "cell_type": "code",
      "source": [],
      "metadata": {
        "id": "4-ESwML2ass8"
      },
      "execution_count": null,
      "outputs": []
    },
    {
      "cell_type": "markdown",
      "source": [
        "# MODEL EVALUATION"
      ],
      "metadata": {
        "id": "D1OzAB_6axYZ"
      }
    },
    {
      "cell_type": "code",
      "source": [],
      "metadata": {
        "id": "m7z7VI5Caxgu"
      },
      "execution_count": null,
      "outputs": []
    },
    {
      "cell_type": "markdown",
      "source": [
        "#***RESULTS***"
      ],
      "metadata": {
        "id": "QIWk3rdhcNMd"
      }
    },
    {
      "cell_type": "code",
      "source": [],
      "metadata": {
        "id": "UOD-CUhBcNUL"
      },
      "execution_count": null,
      "outputs": []
    },
    {
      "cell_type": "markdown",
      "source": [
        "#***WRITTEN CONCLUSIONS***"
      ],
      "metadata": {
        "id": "SC_NK7s6cTEg"
      }
    },
    {
      "cell_type": "markdown",
      "source": [],
      "metadata": {
        "id": "RQj8J22AcTM_"
      }
    },
    {
      "cell_type": "markdown",
      "source": [
        "#**FURTHER RESEARCH LINES IF TIME PERMITS**"
      ],
      "metadata": {
        "id": "r1wYdu96cYIf"
      }
    },
    {
      "cell_type": "markdown",
      "source": [],
      "metadata": {
        "id": "JYICALnzcc6r"
      }
    },
    {
      "cell_type": "markdown",
      "source": [
        "#***BUSINESS IMPACT***"
      ],
      "metadata": {
        "id": "3KbyBUNScdGn"
      }
    },
    {
      "cell_type": "code",
      "source": [],
      "metadata": {
        "id": "QvbUWkhIcevt"
      },
      "execution_count": 14,
      "outputs": []
    },
    {
      "cell_type": "markdown",
      "source": [],
      "metadata": {
        "id": "rdwW6sgtcdJU"
      }
    },
    {
      "cell_type": "markdown",
      "source": [
        "# OTHERS"
      ],
      "metadata": {
        "id": "FBbOfV5-ZQ__"
      }
    },
    {
      "cell_type": "code",
      "source": [
        "\"\"\"\n",
        "\n",
        "\n",
        "path = HOME_FOLDER + \"vowel.train.txt\"\n",
        "\n",
        "with open(path, \"r\") as file:\n",
        "  #contents = file.read()\n",
        "  for line in file:\n",
        "    print(line.strip())\n",
        "\n",
        "\n",
        "\"\"\"\n",
        "\n",
        "\"\"\"\n",
        "\n",
        "path = HOME_FOLDER + \"netflix_titles.csv\"\n",
        "\n",
        "#df = pd.read_csv(path, encoding='latin1')\n",
        "df = pd.read_csv(path)\n",
        "\n",
        "\n",
        "# Check the first few rows to ensure it looks okay\n",
        "print(df.head())\n",
        "\n",
        "\"\"\""
      ],
      "metadata": {
        "id": "iD1cBylxZRLq"
      },
      "execution_count": null,
      "outputs": []
    },
    {
      "cell_type": "markdown",
      "source": [
        "# Nueva sección"
      ],
      "metadata": {
        "id": "ggZ-GlIXtTtu"
      }
    }
  ]
}